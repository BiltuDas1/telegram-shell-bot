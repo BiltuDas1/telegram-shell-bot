{
  "nbformat": 4,
  "nbformat_minor": 0,
  "metadata": {
    "colab": {
      "name": "TechSouls.ipynb",
      "provenance": [],
      "collapsed_sections": []
    },
    "kernelspec": {
      "display_name": "Python 3",
      "name": "python3"
    },
    "language_info": {
      "name": "python"
    }
  },
  "cells": [
    {
      "cell_type": "markdown",
      "metadata": {
        "id": "isMLlXIq4bMi"
      },
      "source": [
        "# 1. Download/Update Pre-requesting Components\n",
        "Download or Update Pre-requesting components into Google Colab"
      ]
    },
    {
      "cell_type": "code",
      "metadata": {
        "colab": {
          "base_uri": "https://localhost:8080/"
        },
        "id": "Y6juUjqk4vUR",
        "outputId": "4811c705-7061-4fba-9e21-a8311baf67ef"
      },
      "source": [
        "!apt install curl\n",
        "!apt install jq\n",
        "!apt install git"
      ],
      "execution_count": 1,
      "outputs": [
        {
          "output_type": "stream",
          "name": "stdout",
          "text": [
            "Reading package lists... Done\n",
            "Building dependency tree       \n",
            "Reading state information... Done\n",
            "curl is already the newest version (7.58.0-2ubuntu3.16).\n",
            "The following package was automatically installed and is no longer required:\n",
            "  libnvidia-common-460\n",
            "Use 'apt autoremove' to remove it.\n",
            "0 upgraded, 0 newly installed, 0 to remove and 37 not upgraded.\n",
            "Reading package lists... Done\n",
            "Building dependency tree       \n",
            "Reading state information... Done\n",
            "The following package was automatically installed and is no longer required:\n",
            "  libnvidia-common-460\n",
            "Use 'apt autoremove' to remove it.\n",
            "The following additional packages will be installed:\n",
            "  libjq1 libonig4\n",
            "The following NEW packages will be installed:\n",
            "  jq libjq1 libonig4\n",
            "0 upgraded, 3 newly installed, 0 to remove and 37 not upgraded.\n",
            "Need to get 276 kB of archives.\n",
            "After this operation, 930 kB of additional disk space will be used.\n",
            "Get:1 http://archive.ubuntu.com/ubuntu bionic/universe amd64 libonig4 amd64 6.7.0-1 [119 kB]\n",
            "Get:2 http://archive.ubuntu.com/ubuntu bionic/universe amd64 libjq1 amd64 1.5+dfsg-2 [111 kB]\n",
            "Get:3 http://archive.ubuntu.com/ubuntu bionic/universe amd64 jq amd64 1.5+dfsg-2 [45.6 kB]\n",
            "Fetched 276 kB in 1s (484 kB/s)\n",
            "Selecting previously unselected package libonig4:amd64.\n",
            "(Reading database ... 155062 files and directories currently installed.)\n",
            "Preparing to unpack .../libonig4_6.7.0-1_amd64.deb ...\n",
            "Unpacking libonig4:amd64 (6.7.0-1) ...\n",
            "Selecting previously unselected package libjq1:amd64.\n",
            "Preparing to unpack .../libjq1_1.5+dfsg-2_amd64.deb ...\n",
            "Unpacking libjq1:amd64 (1.5+dfsg-2) ...\n",
            "Selecting previously unselected package jq.\n",
            "Preparing to unpack .../jq_1.5+dfsg-2_amd64.deb ...\n",
            "Unpacking jq (1.5+dfsg-2) ...\n",
            "Setting up libonig4:amd64 (6.7.0-1) ...\n",
            "Setting up libjq1:amd64 (1.5+dfsg-2) ...\n",
            "Setting up jq (1.5+dfsg-2) ...\n",
            "Processing triggers for man-db (2.8.3-2ubuntu0.1) ...\n",
            "Processing triggers for libc-bin (2.27-3ubuntu1.3) ...\n",
            "/sbin/ldconfig.real: /usr/local/lib/python3.7/dist-packages/ideep4py/lib/libmkldnn.so.0 is not a symbolic link\n",
            "\n",
            "Reading package lists... Done\n",
            "Building dependency tree       \n",
            "Reading state information... Done\n",
            "git is already the newest version (1:2.17.1-1ubuntu0.9).\n",
            "The following package was automatically installed and is no longer required:\n",
            "  libnvidia-common-460\n",
            "Use 'apt autoremove' to remove it.\n",
            "0 upgraded, 0 newly installed, 0 to remove and 37 not upgraded.\n"
          ]
        }
      ]
    },
    {
      "cell_type": "markdown",
      "metadata": {
        "id": "YlIWK1Dv6jtK"
      },
      "source": [
        "# Reset Bot (Optional)\n",
        "If you want to clean install and run that bot again then you can run this\n",
        "\n",
        "**Warning: It will reset all settings to default setting and after that you need to manually configure all things.**"
      ]
    },
    {
      "cell_type": "code",
      "metadata": {
        "id": "dlK24kfm65Mp",
        "colab": {
          "base_uri": "https://localhost:8080/"
        },
        "outputId": "5ee3fa1e-fd78-4ead-b056-644bf5625f05"
      },
      "source": [
        "!rm -dr settings temp\n",
        "!rm config.ini\n",
        "!rm *.sh"
      ],
      "execution_count": null,
      "outputs": [
        {
          "output_type": "stream",
          "name": "stdout",
          "text": [
            "rm: cannot remove 'settings': No such file or directory\n",
            "rm: cannot remove 'temp': No such file or directory\n",
            "rm: cannot remove 'config.ini': No such file or directory\n",
            "rm: cannot remove '*.sh': No such file or directory\n"
          ]
        }
      ]
    },
    {
      "cell_type": "markdown",
      "metadata": {
        "id": "R5yJgT_8mXVl"
      },
      "source": [
        "# 2. Download Scripts\n",
        "Download Scripts into Google Colab\n",
        "\n"
      ]
    },
    {
      "cell_type": "code",
      "metadata": {
        "colab": {
          "base_uri": "https://localhost:8080/"
        },
        "id": "3g5xvG2brG1c",
        "outputId": "859a1ff9-bae1-4e77-9eee-5c2f7766a73a"
      },
      "source": [
        "!git clone https://github.com/BiltuDas1/telegram-shell-bot.git\n",
        "!mkdir temp settings\n",
        "!cd telegram-shell-bot\n",
        "!mv * ..\n",
        "!cd ..\n",
        "!rm -d telegram-shell-bot"
      ],
      "execution_count": 2,
      "outputs": [
        {
          "output_type": "stream",
          "name": "stdout",
          "text": [
            "Cloning into 'telegram-shell-bot'...\n",
            "remote: Enumerating objects: 40, done.\u001b[K\n",
            "remote: Counting objects: 100% (40/40), done.\u001b[K\n",
            "remote: Compressing objects: 100% (39/39), done.\u001b[K\n",
            "remote: Total 40 (delta 16), reused 0 (delta 0), pack-reused 0\u001b[K\n",
            "Unpacking objects: 100% (40/40), done.\n"
          ]
        }
      ]
    },
    {
      "cell_type": "markdown",
      "metadata": {
        "id": "KRh7gYzK8p6o"
      },
      "source": [
        "# 3. Configure Bot\n",
        "Start to Configure Bot According to your Choice"
      ]
    },
    {
      "cell_type": "code",
      "metadata": {
        "colab": {
          "base_uri": "https://localhost:8080/"
        },
        "id": "e_T9zGu31D9A",
        "outputId": "887dc639-7f3e-45ee-f246-06bcd066a340"
      },
      "source": [
        "!read -p \"Enter your Bot(s) API token from BotFather: \" token && sed -i \"s/\\#\\$BOTTOKEN/$token/g\" config.ini\n",
        "!read -p \"Enter the Main Group Id where you will want to add this Bot: \" target && sed -i \"s/\\#\\$TARGETGROUP/$target/g\" config.ini\n",
        "!read -p \"Enter your Mod Group Id Or your Personal Chat Id (For Further Updates): \" updateid && sed -i \"s/\\#\\$FORWARDID/$updateid/g\" config.ini"
      ],
      "execution_count": null,
      "outputs": [
        {
          "output_type": "stream",
          "name": "stdout",
          "text": [
            "Enter your Bot(s) API token from BotFather: 1809534802:AAFtZQqlcMTfxwaDZII7LrvMEZ0G5OKdw4k\n",
            "Enter the Main Group Id where you will want to add this Bot: -1001249129180\n",
            "Enter your Mod Group Id Or your Personal Chat Id (For Further Updates): -1001537109915\n"
          ]
        }
      ]
    },
    {
      "cell_type": "markdown",
      "metadata": {
        "id": "nLSCF0PWC8Wl"
      },
      "source": [
        "# 4. Add VirusTotal API key\n",
        "Virustotal API key allowes to check for malicious links, if you not add any API key then it will failed to scan malicious links.\n",
        "\n",
        "1. For Getting an API key you need to [Log In](https://www.virustotal.com/gui/sign-in) into VirusTotal, If you don't have any VirusTotal Account then you can [Create a new Account](https://www.virustotal.com/gui/join-us).\n",
        "2. After Logging in into your Account, Click on your Profile and Then Click on **API Key**. Although you can use below link to show API key (replace username with your VirusTotal username)\n",
        "\n",
        "   **https://www.virustotal.com/gui/user/[username]/apikey**\n",
        "3. Now you will get a Random Letter and mixture of numbers, that's your API key, you need to copy and Paste it into Required field.\n"
      ]
    },
    {
      "cell_type": "code",
      "metadata": {
        "colab": {
          "base_uri": "https://localhost:8080/"
        },
        "id": "IccQfGnQFh0M",
        "outputId": "72c67cd4-9e2a-430e-8a78-33e417aa798c"
      },
      "source": [
        "!read -p \"Insert the API key which You have copied from VirusTotal : \" key && sed -i \"s/\\#\\$VTKEY/$key/g\" config.ini"
      ],
      "execution_count": null,
      "outputs": [
        {
          "output_type": "stream",
          "name": "stdout",
          "text": [
            "Insert the API key which You have copied from VirusTotal : e93eb5e6c05a54ff5997cd272e015819fa6034f8e3f11656db30c6b66a1ac12c\n"
          ]
        }
      ]
    },
    {
      "cell_type": "markdown",
      "metadata": {
        "id": "7B8Oa27aK1-U"
      },
      "source": [
        "# Add Allowed Group List\n",
        "Add Group Id one by One Where you want to add this bot, Means if you not add your group id (It might be main group Id or Moderator Group Id) then the Bot will leave your Group along with a message automatically."
      ]
    },
    {
      "cell_type": "code",
      "metadata": {
        "colab": {
          "base_uri": "https://localhost:8080/"
        },
        "id": "CM19PcvMGQrx",
        "outputId": "5a01b459-ffd9-4f67-d61c-adb4500bacf3"
      },
      "source": [
        "loop = 2\n",
        "linenum = 0\n",
        "lookup = '### Allowed Groups'\n",
        "with open(\"config.ini\") as myFile:\n",
        "    for num, line in enumerate(myFile, 1):\n",
        "        if lookup in line:\n",
        "            linenum = num\n",
        "while ( loop > 1):\n",
        "  id = input(\"Enter your Group Id (Type Exit to Close and Save): \")\n",
        "  if id == \"Exit\":\n",
        "    break\n",
        "  linenum = int(linenum) + 1\n",
        "  !sed -i '$linenum i $id' config.ini"
      ],
      "execution_count": null,
      "outputs": [
        {
          "name": "stdout",
          "output_type": "stream",
          "text": [
            "Enter your Group Id (Type Exit to Close and Save): -1001249129180\n",
            "Enter your Group Id (Type Exit to Close and Save): -1001537109915\n",
            "Enter your Group Id (Type Exit to Close and Save): Exit\n"
          ]
        }
      ]
    },
    {
      "cell_type": "markdown",
      "metadata": {
        "id": "6YqlGQhcZaga"
      },
      "source": [
        "# Start the Bot\n",
        "If you Configure Bot Properly then it will be work fine, If not then it will send you errors, Goto your Target Id (Main Group) and use **/online** command to see the bot is working or not."
      ]
    },
    {
      "cell_type": "code",
      "metadata": {
        "colab": {
          "base_uri": "https://localhost:8080/"
        },
        "id": "d-3ukmcqYzBI",
        "outputId": "3db7fd78-9702-42fe-c112-8656c61e6ca2"
      },
      "source": [
        "!bash run.sh"
      ],
      "execution_count": null,
      "outputs": [
        {
          "output_type": "stream",
          "name": "stdout",
          "text": [
            "mkdir: cannot create directory ‘temp’: File exists\n"
          ]
        }
      ]
    }
  ]
}