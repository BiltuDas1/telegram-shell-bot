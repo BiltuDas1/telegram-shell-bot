{
  "nbformat": 4,
  "nbformat_minor": 0,
  "metadata": {
    "colab": {
      "name": "TechSouls.ipynb",
      "provenance": [],
      "collapsed_sections": []
    },
    "kernelspec": {
      "name": "python3",
      "display_name": "Python 3"
    },
    "language_info": {
      "name": "python"
    }
  },
  "cells": [
    {
      "cell_type": "markdown",
      "metadata": {
        "id": "isMLlXIq4bMi"
      },
      "source": [
        "# 1. Download/Update Pre-requesting Components\n",
        "Download or Update Pre-requesting components into Google Colab"
      ]
    },
    {
      "cell_type": "code",
      "metadata": {
        "id": "Y6juUjqk4vUR"
      },
      "source": [
        "!apt install curl\n",
        "!apt install jq"
      ],
      "execution_count": null,
      "outputs": []
    },
    {
      "cell_type": "markdown",
      "metadata": {
        "id": "YlIWK1Dv6jtK"
      },
      "source": [
        "# Reset Bot (Optional)\n",
        "If you want to clean install and run that bot again then you can run this\n",
        "\n",
        "**Warning: It will reset all settings to default setting and after that you need to manually configure all things.**"
      ]
    },
    {
      "cell_type": "code",
      "metadata": {
        "id": "dlK24kfm65Mp"
      },
      "source": [
        "!rm -dr settings temp\n",
        "!rm config.ini\n",
        "!rm *.sh"
      ],
      "execution_count": null,
      "outputs": []
    },
    {
      "cell_type": "markdown",
      "metadata": {
        "id": "R5yJgT_8mXVl"
      },
      "source": [
        "# 2. Download Scripts\n",
        "Download Scripts into Google Colab\n",
        "\n"
      ]
    },
    {
      "cell_type": "code",
      "metadata": {
        "colab": {
          "base_uri": "https://localhost:8080/"
        },
        "id": "3g5xvG2brG1c",
        "outputId": "2a00e2d0-8af5-4088-c24c-68f2661419cc"
      },
      "source": [
        "!curl -L https://transfer.sh/oLkjQI/bot.tar.gz > bot.tar.gz\n",
        "!tar -xvf bot.tar.gz\n",
        "!mkdir temp settings\n",
        "!rm bot.tar.gz"
      ],
      "execution_count": 58,
      "outputs": [
        {
          "output_type": "stream",
          "name": "stdout",
          "text": [
            "  % Total    % Received % Xferd  Average Speed   Time    Time     Time  Current\n",
            "                                 Dload  Upload   Total   Spent    Left  Speed\n",
            "100  3390  100  3390    0     0   5824      0 --:--:-- --:--:-- --:--:--  5814\n",
            "config.ini\n",
            "proc.sh\n",
            "run.sh\n",
            "urlscan.sh\n",
            "mkdir: cannot create directory ‘temp’: File exists\n",
            "mkdir: cannot create directory ‘settings’: File exists\n"
          ]
        }
      ]
    },
    {
      "cell_type": "markdown",
      "metadata": {
        "id": "KRh7gYzK8p6o"
      },
      "source": [
        "# 3. Configure Bot\n",
        "Start to Configure Bot According to your Choice"
      ]
    },
    {
      "cell_type": "code",
      "metadata": {
        "id": "e_T9zGu31D9A"
      },
      "source": [
        "!read -p \"Enter your Bot(s) API token from BotFather: \" token && sed -i \"s/\\#\\$BOTTOKEN/$token/g\" config.ini\n",
        "!read -p \"Enter the Main Group Id where you will want to add this Bot: \" target && sed -i \"s/\\#\\$TARGETGROUP/$target/g\" config.ini\n",
        "!read -p \"Enter your Mod Group Id Or your Personal Chat Id (For Further Updates): \" updateid && sed -i \"s/\\#\\$FORWARDID/$updateid/g\" config.ini"
      ],
      "execution_count": null,
      "outputs": []
    },
    {
      "cell_type": "markdown",
      "metadata": {
        "id": "nLSCF0PWC8Wl"
      },
      "source": [
        "# 4. Add VirusTotal API key\n",
        "Virustotal API key allowes to check for malicious links, if you not add any API key then it will failed to scan malicious links.\n",
        "\n",
        "1. For Getting an API key you need to [Log In](https://www.virustotal.com/gui/sign-in) into VirusTotal, If you don't have any VirusTotal Account then you can [Create a new Account](https://www.virustotal.com/gui/join-us).\n",
        "2. After Logging in into your Account, Click on your Profile and Then Click on **API Key**. Although you can use below link to show API key (replace username with your VirusTotal username)\n",
        "\n",
        "   **https://www.virustotal.com/gui/user/[username]/apikey**\n",
        "3. Now you will get a Random Letter and mixture of numbers, that's your API key, you need to copy and Paste it into Required field.\n"
      ]
    },
    {
      "cell_type": "code",
      "metadata": {
        "id": "IccQfGnQFh0M"
      },
      "source": [
        "!read -p \"Insert the API key which You have copied from VirusTotal : \" key && sed -i \"s/\\#\\$VTKEY/$key/g\" config.ini"
      ],
      "execution_count": null,
      "outputs": []
    },
    {
      "cell_type": "markdown",
      "metadata": {
        "id": "7B8Oa27aK1-U"
      },
      "source": [
        "# Add Allowed Group List\n",
        "Add Group Id one by One Where you want to add this bot, Means if you not add your group id (It might be main group Id or Moderator Group Id) then the Bot will leave your Group along with a message automatically."
      ]
    },
    {
      "cell_type": "code",
      "metadata": {
        "id": "CM19PcvMGQrx"
      },
      "source": [
        "loop = 2\n",
        "linenum = 0\n",
        "lookup = '### Allowed Groups'\n",
        "with open(\"config.ini\") as myFile:\n",
        "    for num, line in enumerate(myFile, 1):\n",
        "        if lookup in line:\n",
        "            linenum = num\n",
        "while ( loop > 1):\n",
        "  id = input(\"Enter your Group Id (Type Exit to Close and Save): \")\n",
        "  if id == \"Exit\":\n",
        "    break\n",
        "  linenum = int(linenum) + 1\n",
        "  !sed -i '$linenum i $id' config.ini"
      ],
      "execution_count": null,
      "outputs": []
    },
    {
      "cell_type": "markdown",
      "metadata": {
        "id": "6YqlGQhcZaga"
      },
      "source": [
        "# Start the Bot\n",
        "If you Configure Bot Properly then it will be work fine, If not then it will send you errors, Goto your Target Id (Main Group) and use **/online** command to see the bot is working or not."
      ]
    },
    {
      "cell_type": "code",
      "metadata": {
        "id": "d-3ukmcqYzBI"
      },
      "source": [
        "!bash run.sh"
      ],
      "execution_count": null,
      "outputs": []
    }
  ]
}
